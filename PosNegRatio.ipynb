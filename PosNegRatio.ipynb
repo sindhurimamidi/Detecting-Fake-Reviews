{

 "metadata": {

  "name": "",

  "signature": "sha256:2ff64e0551d7168573b1b397479361c93942bec802cdc198b9decf5ca16e4c30"

 },

 "nbformat": 3,

 "nbformat_minor": 0,

 "worksheets": [

  {

   "cells": [

    {

     "cell_type": "code",

     "collapsed": false,

     "input": [

      "import pandas as pd\n",

      "df=pd.read_csv('L:/Data Mining/Final_Arjun_Data.csv',header=0,usecols=[0,8,9])\n",

      "sorted_df=df.sort(['uid'])"

     ],

     "language": "python",

     "metadata": {},

     "outputs": [],

     "prompt_number": 12

    },

    {

     "cell_type": "code",

     "collapsed": false,

     "input": [

      "sorted_df.dtypes"

     ],

     "language": "python",

     "metadata": {},

     "outputs": [],

     "prompt_number": 13

    },

    {

     "cell_type": "code",

     "collapsed": false,

     "input": [

      "def construct_features(temp_df,user_id):\n",

      "        review_count=len(temp_df)\n",

      "        #print user_id\n",

      "        a[user_id][2]=review_count\n",

      "        a[user_id][3]=temp_df.irow(0)['uid']\n",

      "        a[user_id][0]=0\n",

      "        a[user_id][1]=0\n",

      "        for i in range(len(temp_df)):\n",

      "            \n",

      "            if temp_df.irow(i)['Stars']==1 or temp_df.irow(i)['Stars']==2:\n",

      "                a[user_id][0]=a[user_id][0]+1\n",

      "            elif temp_df.irow(i)['Stars']==4 or temp_df.irow(i)['Stars']==5:\n",

      "                a[user_id][1]=a[user_id][1]+1\n",

      "        return\n",

      "\n",

      "sorted_df=df.sort(['uid'])\n",

      "a= [ [ 0 for i in range(4) ] for j in range(35048) ]\n",

      "temp_df=pd.DataFrame()    \n",

      "prev_userid=sorted_df.irow(0)['uid']\n",

      "#print prev_userid\n",

      "k=0\n",

      "for i in range(len(sorted_df)):\n",

      "        #print i\n",

      "        cur_userid=sorted_df.irow(i)['uid']\n",

      "        #print cur_userid\n",

      "        if cur_userid==prev_userid:\n",

      "                #print \"1\"\n",

      "                temp_df=temp_df.append(sorted_df.irow(i))\n",

      "                temp_df\n",

      "        if prev_userid!=cur_userid:\n",

      "                #print \"3\"\n",

      "                construct_features(temp_df,k)\n",

      "                k=k+1\n",

      "                del temp_df\n",

      "                prev_userid=cur_userid\n",

      "                temp_df=pd.DataFrame()  \n",

      "                temp_df=temp_df.append(sorted_df.irow(i))"

     ],

     "language": "python",

     "metadata": {},

     "outputs": [],

     "prompt_number": 14

    },

    {

     "cell_type": "code",

     "collapsed": false,

     "input": [

      "c= [ [ 0 for i in range(4) ] for j in range(35048) ]\n",

      "for i in range((35048)):\n",

      "    for j in range(4):\n",

      "        c[i][j]=float(a[i][j])"

     ],

     "language": "python",

     "metadata": {},

     "outputs": [],

     "prompt_number": 30

    },

    {

     "cell_type": "code",

     "collapsed": false,

     "input": [

      "for i in range((35047)):\n",

      "    c[i][0] = float(c[i][0])/float(c[i][2])\n",

      "    c[i][1] = float(c[i][1])/float(c[i][2])"

     ],

     "language": "python",

     "metadata": {},

     "outputs": [],

     "prompt_number": 31

    },

    {

     "cell_type": "code",

     "collapsed": false,

     "input": [

      "import math as mt\n",

      "sum=0.0\n",

      "ln=0.0\n",

      "entropy= [ [ 0 for i in range(3) ] for j in range(35047) ]\n",

      "for i in range(35047):\n",

      "    entropy[i][0] = a[i][0]\n",

      "    entropy[i][2] = a[i][3]\n",

      "    if a[i][1] != 0.0:\n",

      "        ln=float(mt.log(a[i][1],2))\n",

      "        entropy[i][1] = -(a[i][1] * ln)\n",

      "    if a[i][2] != 0.0:\n",

      "        ln=float(mt.log(a[i][2],2))\n",

      "        entropy[i][1] = entropy[i][1]-(a[i][2] * ln)\n",

      "        \n",

      "    "

     ],

     "language": "python",

     "metadata": {},

     "outputs": []

    }

   ],

   "metadata": {}

  }

 ]

}
