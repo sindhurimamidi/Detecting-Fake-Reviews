{
 "metadata": {
  "name": "review_length.ipynb",
  "signature": "sha256:3fae3ca39de9885f68819116e47aa7e5e1da7518d7dc46aaef5df7503ebf23ff"
 },
 "nbformat": 3,
 "nbformat_minor": 0,
 "worksheets": [
  {
   "cells": [
    {
     "cell_type": "code",
     "collapsed": false,
     "input": [
      "import pandas as pd\n",
      "from nltk import word_tokenize"
     ],
     "language": "python",
     "metadata": {},
     "outputs": [],
     "prompt_number": 1
    },
    {
     "cell_type": "code",
     "collapsed": false,
     "input": [
      "from nltk import word_tokenize\n",
      "import pandas as pd\n",
      "df=pd.read_csv('C:/Users/Prema/Desktop/590/FullData.csv',header=0,usecols=[4,5])"
     ],
     "language": "python",
     "metadata": {},
     "outputs": [],
     "prompt_number": 3
    },
    {
     "cell_type": "code",
     "collapsed": false,
     "input": [
      "df.dtypes"
     ],
     "language": "python",
     "metadata": {},
     "outputs": [
      {
       "metadata": {},
       "output_type": "pyout",
       "prompt_number": 4,
       "text": [
        "text    object\n",
        "uid      int64\n",
        "dtype: object"
       ]
      }
     ],
     "prompt_number": 4
    },
    {
     "cell_type": "code",
     "collapsed": false,
     "input": [
      "sorted_df=df.sort(['uid'])"
     ],
     "language": "python",
     "metadata": {},
     "outputs": [],
     "prompt_number": 5
    },
    {
     "cell_type": "code",
     "collapsed": false,
     "input": [
      "import numpy as np\n",
      "u, idx, inv = np.unique(sorted_df['uid'], return_index=True, return_inverse=True)\n",
      "print len(u)"
     ],
     "language": "python",
     "metadata": {},
     "outputs": [
      {
       "output_type": "stream",
       "stream": "stdout",
       "text": [
        "243695\n"
       ]
      }
     ],
     "prompt_number": 6
    },
    {
     "cell_type": "code",
     "collapsed": false,
     "input": [
      "a= [ [ 0 for i in range(3) ] for j in range(243695) ]\n",
      "def construct_features(temp_df,user_id):\n",
      "        sum=0\n",
      "        a[user_id][1]= len(temp_df)\n",
      "        a[user_id][0] = temp_df.irow(0)['uid']\n",
      "        for i in range(len(temp_df)):\n",
      "            tokens = word_tokenize(df.irow(i)['text'].decode('utf-8'))\n",
      "            sum=sum+len(tokens)\n",
      "        a[user_id][2] = float(\"{0:.2f}\".format(sum/a[user_id][1]))\n",
      "        return\n",
      "    \n",
      "temp_df=pd.DataFrame()    \n",
      "prev_userid=sorted_df.irow(0)['uid']\n",
      "k=0\n",
      "for i in range(len(sorted_df)):\n",
      "        cur_userid=sorted_df.irow(i)['uid']\n",
      "        if cur_userid==prev_userid:\n",
      "                temp_df=temp_df.append(sorted_df.irow(i))\n",
      "        if prev_userid!=cur_userid:\n",
      "                construct_features(temp_df,k)\n",
      "                k=k+1\n",
      "                del temp_df\n",
      "                prev_userid=cur_userid\n",
      "                temp_df=pd.DataFrame()  \n",
      "                temp_df=temp_df.append(sorted_df.irow(i))\n",
      "   "
     ],
     "language": "python",
     "metadata": {},
     "outputs": [],
     "prompt_number": 2
    },
    {
     "cell_type": "code",
     "collapsed": false,
     "input": [
      "c= [ [ 0 for i in range(5) ] for j in range(243695) ]\n",
      "for i in range((243695)):\n",
      "    c[i][0]=a[i][0]\n",
      "    c[i][1]=float(a[i][1])\n",
      "    c[i][2]=float(a[i][2])"
     ],
     "language": "python",
     "metadata": {},
     "outputs": [
      {
       "ename": "NameError",
       "evalue": "name 'a' is not defined",
       "output_type": "pyerr",
       "traceback": [
        "\u001b[1;31m---------------------------------------------------------------------------\u001b[0m\n\u001b[1;31mNameError\u001b[0m                                 Traceback (most recent call last)",
        "\u001b[1;32m<ipython-input-1-e099e48096d8>\u001b[0m in \u001b[0;36m<module>\u001b[1;34m()\u001b[0m\n\u001b[0;32m      1\u001b[0m \u001b[0mc\u001b[0m\u001b[1;33m=\u001b[0m \u001b[1;33m[\u001b[0m \u001b[1;33m[\u001b[0m \u001b[1;36m0\u001b[0m \u001b[1;32mfor\u001b[0m \u001b[0mi\u001b[0m \u001b[1;32min\u001b[0m \u001b[0mrange\u001b[0m\u001b[1;33m(\u001b[0m\u001b[1;36m5\u001b[0m\u001b[1;33m)\u001b[0m \u001b[1;33m]\u001b[0m \u001b[1;32mfor\u001b[0m \u001b[0mj\u001b[0m \u001b[1;32min\u001b[0m \u001b[0mrange\u001b[0m\u001b[1;33m(\u001b[0m\u001b[1;36m243695\u001b[0m\u001b[1;33m)\u001b[0m \u001b[1;33m]\u001b[0m\u001b[1;33m\u001b[0m\u001b[0m\n\u001b[0;32m      2\u001b[0m \u001b[1;32mfor\u001b[0m \u001b[0mi\u001b[0m \u001b[1;32min\u001b[0m \u001b[0mrange\u001b[0m\u001b[1;33m(\u001b[0m\u001b[1;33m(\u001b[0m\u001b[1;36m243695\u001b[0m\u001b[1;33m)\u001b[0m\u001b[1;33m)\u001b[0m\u001b[1;33m:\u001b[0m\u001b[1;33m\u001b[0m\u001b[0m\n\u001b[1;32m----> 3\u001b[1;33m     \u001b[0mc\u001b[0m\u001b[1;33m[\u001b[0m\u001b[0mi\u001b[0m\u001b[1;33m]\u001b[0m\u001b[1;33m[\u001b[0m\u001b[1;36m0\u001b[0m\u001b[1;33m]\u001b[0m\u001b[1;33m=\u001b[0m\u001b[0ma\u001b[0m\u001b[1;33m[\u001b[0m\u001b[0mi\u001b[0m\u001b[1;33m]\u001b[0m\u001b[1;33m[\u001b[0m\u001b[1;36m0\u001b[0m\u001b[1;33m]\u001b[0m\u001b[1;33m\u001b[0m\u001b[0m\n\u001b[0m\u001b[0;32m      4\u001b[0m     \u001b[0mc\u001b[0m\u001b[1;33m[\u001b[0m\u001b[0mi\u001b[0m\u001b[1;33m]\u001b[0m\u001b[1;33m[\u001b[0m\u001b[1;36m1\u001b[0m\u001b[1;33m]\u001b[0m\u001b[1;33m=\u001b[0m\u001b[0mfloat\u001b[0m\u001b[1;33m(\u001b[0m\u001b[0ma\u001b[0m\u001b[1;33m[\u001b[0m\u001b[0mi\u001b[0m\u001b[1;33m]\u001b[0m\u001b[1;33m[\u001b[0m\u001b[1;36m1\u001b[0m\u001b[1;33m]\u001b[0m\u001b[1;33m)\u001b[0m\u001b[1;33m\u001b[0m\u001b[0m\n\u001b[0;32m      5\u001b[0m     \u001b[0mc\u001b[0m\u001b[1;33m[\u001b[0m\u001b[0mi\u001b[0m\u001b[1;33m]\u001b[0m\u001b[1;33m[\u001b[0m\u001b[1;36m2\u001b[0m\u001b[1;33m]\u001b[0m\u001b[1;33m=\u001b[0m\u001b[0mfloat\u001b[0m\u001b[1;33m(\u001b[0m\u001b[0ma\u001b[0m\u001b[1;33m[\u001b[0m\u001b[0mi\u001b[0m\u001b[1;33m]\u001b[0m\u001b[1;33m[\u001b[0m\u001b[1;36m2\u001b[0m\u001b[1;33m]\u001b[0m\u001b[1;33m)\u001b[0m\u001b[1;33m\u001b[0m\u001b[0m\n",
        "\u001b[1;31mNameError\u001b[0m: name 'a' is not defined"
       ]
      }
     ],
     "prompt_number": 1
    },
    {
     "cell_type": "code",
     "collapsed": false,
     "input": [
      "#Review Count\n",
      "from operator import itemgetter, attrgetter, methodcaller\n",
      "c=sorted(c, key=itemgetter(1))\n",
      "for i in range((243695)):\n",
      "    c[i][3]=float(((float(243695-i))/float(243695)))"
     ],
     "language": "python",
     "metadata": {},
     "outputs": [],
     "prompt_number": 16
    },
    {
     "cell_type": "code",
     "collapsed": false,
     "input": [
      "\n",
      "from operator import itemgetter, attrgetter, methodcaller\n",
      "c=sorted(c, key=itemgetter(2))\n",
      "for i in range((243695)):\n",
      "    c[i][4]=float(((float(i))/float(243695)))"
     ],
     "language": "python",
     "metadata": {},
     "outputs": [],
     "prompt_number": 18
    },
    {
     "cell_type": "code",
     "collapsed": false,
     "input": [
      "import math as mt\n",
      "scores= [ [ 0 for i in range(2) ] for j in range(243695) ]\n",
      "for i in range(243695):\n",
      "    #float((sortedc[i][10]**2 + sortedc[i][11]**2)/2.0)\n",
      "    scores[i][1]=1-mt.sqrt((c[i][3]**2 + c[i][4]**2)/2.0)\n",
      "    scores[i][0]=c[i][0]"
     ],
     "language": "python",
     "metadata": {},
     "outputs": [],
     "prompt_number": 19
    },
    {
     "cell_type": "code",
     "collapsed": false,
     "input": [
      "import csv\n",
      "\n",
      "csvfile = \"/Users/iacsofficecomputer/Desktop/folder/Priors_Review Length_Nov6.csv\"\n",
      "\n",
      "with open(csvfile, \"w\") as output:\n",
      "    writer = csv.writer(output, lineterminator='\\n')\n",
      "    writer.writerows(scores)"
     ],
     "language": "python",
     "metadata": {},
     "outputs": [],
     "prompt_number": 20
    }
   ],
   "metadata": {}
  }
 ]
}
