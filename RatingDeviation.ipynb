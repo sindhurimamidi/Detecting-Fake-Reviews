{

 "metadata": {

  "name": "",

  "signature": "sha256:3cf00119ff014b49855ea952fd5b0f43125ae27b1a78cccc34981a508828351a"

 },

 "nbformat": 3,

 "nbformat_minor": 0,

 "worksheets": [

  {

   "cells": [

    {

     "cell_type": "code",

     "collapsed": false,

     "input": [

      "import pandas as pd\n",

      "df=pd.read_csv('L:/Data Mining/Business_AvgRaing_Arjun.csv',header=0)\n",

      "sorted_df=df.sort(['bid'])"

     ],

     "language": "python",

     "metadata": {},

     "outputs": [],

     "prompt_number": 1

    },

    {

     "cell_type": "code",

     "collapsed": false,

     "input": [

      "import pandas as pd\n",

      "df2=pd.read_csv('L:/Data Mining/Final_Arjun_Data.csv',header=0,usecols=[8,9,10])\n",

      "sorted_df2=df2.sort(['bid'])"

     ],

     "language": "python",

     "metadata": {},

     "outputs": [],

     "prompt_number": 2

    },

    {

     "cell_type": "code",

     "collapsed": false,

     "input": [

      "a= [ [ 0 for i in range(5) ] for j in range(58209) ]\n",

      "for i in range(58209):\n",

      "    a[i][0] = sorted_df2.irow(i)['uid']\n",

      "    a[i][1] = sorted_df2.irow(i)['bid']\n",

      "    a[i][2] = sorted_df2.irow(i)['Stars']\n",

      "    for j in range(len(sorted_df)):\n",

      "        if  sorted_df2.irow(i)['bid'] == sorted_df.irow(j)['bid']:\n",

      "            a[i][3] = sorted_df.irow(j)['avg']\n",

      "            break"

     ],

     "language": "python",

     "metadata": {},

     "outputs": [],

     "prompt_number": 3

    },

    {

     "cell_type": "code",

     "collapsed": false,

     "input": [

      "for i in range(58209):\n",

      "    a[i][4] = a[i][2]-a[i][3]"

     ],

     "language": "python",

     "metadata": {},

     "outputs": [],

     "prompt_number": 4

    },

    {

     "cell_type": "code",

     "collapsed": false,

     "input": [

      "import csv\n",

      "csvfile = \"L:/Data Mining/Arjun_RatingDeviation.csv\"    \n",

      "with open(csvfile, \"w\") as output:\n",

      "    writer = csv.writer(output, lineterminator='\\n')\n",

      "    writer.writerows(a)\n",

      "#"

     ],

     "language": "python",

     "metadata": {},

     "outputs": [],

     "prompt_number": 5

    },

    {

     "cell_type": "code",

     "collapsed": false,

     "input": [],

     "language": "python",

     "metadata": {},

     "outputs": []

    }

   ],

   "metadata": {}

  }

 ]

}
