{

 "metadata": {

  "name": "",

  "signature": "sha256:fbc2231ab72569b51a08c97817bf243c950b6adbeecff1bcbe15571084230f67"

 },

 "nbformat": 3,

 "nbformat_minor": 0,

 "worksheets": [

  {

   "cells": [

    {

     "cell_type": "code",

     "collapsed": false,

     "input": [

      "import pandas as pd\n",

      "df=pd.read_csv('L:/Data Mining/Final_Arjun_Data.csv',header=0,usecols=[0,9])"

     ],

     "language": "python",

     "metadata": {},

     "outputs": [],

     "prompt_number": 3

    },

    {

     "cell_type": "code",

     "collapsed": false,

     "input": [

      "sorted_df=df.sort(['uid'])\n"

     ],

     "language": "python",

     "metadata": {},

     "outputs": [],

     "prompt_number": 4

    },

    {

     "cell_type": "code",

     "collapsed": false,

     "input": [

      "a= [ [ 0 for i in range(9) ] for j in range(35048) ]\n",

      "def construct_features(temp_df,k):        \n",

      "        a[k][0] = temp_df.irow(0)['uid']\n",

      "        \n",

      "        temp_df=temp_df.sort(['date'])\n",

      "        temp_df['date']=pd.to_datetime(temp_df['date'])\n",

      "        initial_date=temp_df.irow(0)['date']\n",

      "        temp_dfm=pd.DataFrame()    \n",

      "\n",

      "        for i in range(len(temp_df)):\n",

      "            diff=temp_df.irow(i)['date']-initial_date\n",

      "            diff=diff.days\n",

      "            if diff<=30:\n",

      "                temp_dfm=temp_dfm.append(temp_df.irow(i))\n",

      "            else:\n",

      "                break\n",

      "        \n",

      "        review_count = len(temp_dfm)\n",

      "        a[k][8] = review_count\n",

      "        if review_count==1:\n",

      "            a[k][1]=1\n",

      "            return\n",

      "        temp_dfm=temp_dfm.sort(['date'])\n",

      "        for i in range(review_count-1):\n",

      "            temp_dfm['date']=pd.to_datetime(temp_dfm['date'])\n",

      "            diff_date=temp_dfm.irow(i+1)['date']-temp_dfm.irow(i)['date']\n",

      "            days_diff=diff_date.days\n",

      "            if days_diff==1 or days_diff==0:\n",

      "                a[k][1]=a[k][1]+1\n",

      "            elif days_diff>1 and days_diff<=2:\n",

      "                a[k][2]=a[k][2]+1\n",

      "            elif days_diff>2 and days_diff<=4:\n",

      "                a[k][3]=a[k][3]+1\n",

      "            elif days_diff>4 and days_diff<=8:\n",

      "                a[k][4]=a[k][4]+1\n",

      "            elif days_diff>8 and days_diff<=16:\n",

      "                a[k][5]=a[k][5]+1\n",

      "            elif days_diff>16 and days_diff<=32:\n",

      "                a[k][6]=a[k][6]+1\n",

      "            else:\n",

      "                a[k][7]=a[k][7]+1\n",

      "        return\n",

      "    \n",

      "temp_df=pd.DataFrame()    \n",

      "prev_userid=sorted_df.irow(0)['uid']\n",

      "k=0\n",

      "for i in range(len(sorted_df)):\n",

      "        cur_userid=sorted_df.irow(i)['uid']\n",

      "        if cur_userid==prev_userid:\n",

      "                temp_df=temp_df.append(sorted_df.irow(i))\n",

      "        if prev_userid!=cur_userid:\n",

      "                construct_features(temp_df,k)\n",

      "                k=k+1\n",

      "                del temp_df\n",

      "                prev_userid=cur_userid\n",

      "                temp_df=pd.DataFrame()  \n",

      "                temp_df=temp_df.append(sorted_df.irow(i))"

     ],

     "language": "python",

     "metadata": {},

     "outputs": [],

     "prompt_number": 5

    },

    {

     "cell_type": "code",

     "collapsed": false,

     "input": [

      "c= [ [ 0 for i in range(9) ] for j in range(35047) ]\n",

      "for i in range((35047)):\n",

      "    for j in range(9):\n",

      "        c[i][j]=a[i][j]\n",

      "    "

     ],

     "language": "python",

     "metadata": {},

     "outputs": [],

     "prompt_number": 6

    },

    {

     "cell_type": "code",

     "collapsed": false,

     "input": [

      "import math as mt\n",

      "sum=0.0\n",

      "ln=0.0\n",

      "entropy= [ [ 0 for i in range(5) ] for j in range(35047) ]\n",

      "for i in range((35047)):\n",

      "    for j in range(1,7):\n",

      "        c[i][j]=float(c[i][j])/float(c[i][8])\n",

      "        if c[i][j]==0.0:\n",

      "            continue\n",

      "        ln=float(mt.log(c[i][j],2))\n",

      "        sum=sum+(c[i][j]*ln)\n",

      "    entropy[i][0]=c[i][0]\n",

      "    entropy[i][1] = c[i][8]\n",

      "    entropy[i][2]=-sum\n",

      "    sum = 0.0"

     ],

     "language": "python",

     "metadata": {},

     "outputs": [],

     "prompt_number": 7

    },

    {

     "cell_type": "code",

     "collapsed": false,

     "input": [

      "#Review Count\n",

      "from operator import itemgetter, attrgetter, methodcaller\n",

      "entropy=sorted(entropy, key=itemgetter(1))\n",

      "for i in range((35047)):\n",

      "    entropy[i][3]=float(((float(35047-i))/float(35047)))\n",

      "\n"

     ],

     "language": "python",

     "metadata": {},

     "outputs": [],

     "prompt_number": 8

    },

    {

     "cell_type": "code",

     "collapsed": false,

     "input": [

      "from operator import itemgetter, attrgetter, methodcaller\n",

      "entropy=sorted(entropy, key=itemgetter(2))\n",

      "for i in range((35047)):\n",

      "    entropy[i][4]=float(((float(i))/float(35047)))"

     ],

     "language": "python",

     "metadata": {},

     "outputs": [],

     "prompt_number": 9

    },

    {

     "cell_type": "code",

     "collapsed": false,

     "input": [

      "import math as mt\n",

      "scores= [ [ 0 for i in range(2) ] for j in range(35047) ]\n",

      "for i in range(35047):\n",

      "    #float((sortedc[i][10]**2 + sortedc[i][11]**2)/2.0)\n",

      "    scores[i][1]=1-mt.sqrt((entropy[i][3]**2 + entropy[i][4]**2)/2.0)\n",

      "    scores[i][0]=entropy[i][0]"

     ],

     "language": "python",

     "metadata": {},

     "outputs": [],

     "prompt_number": 10

    },

    {

     "cell_type": "code",

     "collapsed": false,

     "input": [

      "import numpy as np\n",

      "c=np.array(c)\n",

      "entropy=np.array(entropy)\n",

      "%matplotlib inline\n",

      "import matplotlib.pyplot as plt\n",

      "LE = c[:,8]\n",

      "HE = entropy[:,2]\n",

      "plt.scatter(LE, HE)\n",

      "plt.xlabel('No of reviews')\n",

      "plt.ylabel('Entropy')\n",

      "#plt.xlim(0,50)\n",

      "#plt.ylim(0,0.5)\n",

      "plt.show()"

     ],

     "language": "python",

     "metadata": {},

     "outputs": [

      {

       "metadata": {},

       "output_type": "display_data",

       "png": "[encoded data removed]",

       "text": [

        "<matplotlib.figure.Figure at 0x8c26d30>"

       ]

      }

     ],

     "prompt_number": 11

    },

    {

     "cell_type": "code",

     "collapsed": false,

     "input": [

      "import csv\n",

      "csvfile = \"L:/Data Mining/Arjun_Entropy_Month.csv\"    \n",

      "with open(csvfile, \"w\") as output:\n",

      "    writer = csv.writer(output, lineterminator='\\n')\n",

      "    writer.writerows(scores)"

     ],

     "language": "python",

     "metadata": {},

     "outputs": [],

     "prompt_number": 12

    },

    {

     "cell_type": "code",

     "collapsed": false,

     "input": [],

     "language": "python",

     "metadata": {},

     "outputs": []

    }

   ],

   "metadata": {}

  }

 ]

}
