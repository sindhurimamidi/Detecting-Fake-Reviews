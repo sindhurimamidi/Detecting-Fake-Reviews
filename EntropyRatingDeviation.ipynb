{

 "metadata": {

  "name": "",

  "signature": "sha256:6566d42d81e1cc97121c7b651c2d9fdd421ff71b80f687a43b65129a77dcbaa1"

 },

 "nbformat": 3,

 "nbformat_minor": 0,

 "worksheets": [

  {

   "cells": [

    {

     "cell_type": "code",

     "collapsed": false,

     "input": [

      "import pandas as pd\n",

      "df=pd.read_csv('L:/Data Mining/Final_Challenge_Data.csv',header=0,usecols=[8,9])\n"

     ],

     "language": "python",

     "metadata": {},

     "outputs": [],

     "prompt_number": 4

    },

    {

     "cell_type": "code",

     "collapsed": false,

     "input": [

      "df.dtypes"

     ],

     "language": "python",

     "metadata": {},

     "outputs": [],

     "prompt_number": 2

    },

    {

     "cell_type": "code",

     "collapsed": false,

     "input": [

      "sorted_df=df.sort(['uid'])"

     ],

     "language": "python",

     "metadata": {},

     "outputs": [],

     "prompt_number": 3

    },

    {

     "cell_type": "code",

     "collapsed": false,

     "input": [

      "a= [ [ 0 for i in range(4) ] for j in range(35048) ]\n",

      "def construct_features(temp_df,k):\n",

      "        review_count = len(temp_df)\n",

      "        a[k][0] = temp_df.irow(0)['uid']\n",

      "        a[k][3] = review_count\n",

      "        for i in range(review_count):\n",

      "            if temp_df.irow(i)['Stars'] == 4 or temp_df.irow(i)['Stars'] == 5:\n",

      "                a[k][1] = a[k][1] + 1\n",

      "            else:\n",

      "                a[k][2] = a[k][2] + 1\n",

      "        return\n",

      "    \n",

      "temp_df=pd.DataFrame()    \n",

      "prev_userid=sorted_df.irow(0)['uid']\n",

      "k=0\n",

      "for i in range(len(sorted_df)):\n",

      "        cur_userid=sorted_df.irow(i)['uid']\n",

      "        if cur_userid==prev_userid:\n",

      "                temp_df=temp_df.append(sorted_df.irow(i))\n",

      "        if prev_userid!=cur_userid:\n",

      "                construct_features(temp_df,k)\n",

      "                k=k+1\n",

      "                del temp_df\n",

      "                prev_userid=cur_userid\n",

      "                temp_df=pd.DataFrame()  \n",

      "                temp_df=temp_df.append(sorted_df.irow(i))"

     ],

     "language": "python",

     "metadata": {},

     "outputs": [],

     "prompt_number": 4

    },

    {

     "cell_type": "code",

     "collapsed": false,

     "input": [

      "a[35046]"

     ],

     "language": "python",

     "metadata": {},

     "outputs": [],

     "prompt_number": 6

    },

    {

     "cell_type": "code",

     "collapsed": false,

     "input": [

      "for i in range(35047):\n",

      "    a[i][1] = float(a[i][1])/float(a[i][3])\n",

      "    a[i][2] = float(a[i][2])/float(a[i][3])"

     ],

     "language": "python",

     "metadata": {},

     "outputs": [],

     "prompt_number": 40

    },

    {

     "cell_type": "code",

     "collapsed": false,

     "input": [

      "import math as mt\n",

      "sum=0.0\n",

      "ln=0.0\n",

      "entropy= [ [ 0 for i in range(3) ] for j in range(35047) ]\n",

      "for i in range(35047):\n",

      "    entropy[i][0] = a[i][0]\n",

      "    entropy[i][2] = a[i][3]\n",

      "    if a[i][1] != 0.0:\n",

      "        ln=float(mt.log(a[i][1],2))\n",

      "        entropy[i][1] = -(a[i][1] * ln)\n",

      "    if a[i][2] != 0.0:\n",

      "        ln=float(mt.log(a[i][2],2))\n",

      "        entropy[i][1] = entropy[i][1]-(a[i][2] * ln)\n",

      "        \n",

      "    "

     ],

     "language": "python",

     "metadata": {},

     "outputs": [],

     "prompt_number": 63

    },

    {

     "cell_type": "code",

     "collapsed": false,

     "input": [

      "#Review Count\n",

      "from operator import itemgetter, attrgetter, methodcaller\n",

      "entropy=sorted(entropy, key=itemgetter(2))\n",

      "for i in range((35047)):\n",

      "    entropy[i][2]=float(((float(35047-i))/float(35047)))"

     ],

     "language": "python",

     "metadata": {},

     "outputs": [],

     "prompt_number": 64

    },

    {

     "cell_type": "code",

     "collapsed": false,

     "input": [

      "from operator import itemgetter, attrgetter, methodcaller\n",

      "entropy=sorted(entropy, key=itemgetter(1))\n",

      "for i in range((35047)):\n",

      "    entropy[i][1]=float(((float(i))/float(35047)))"

     ],

     "language": "python",

     "metadata": {},

     "outputs": [],

     "prompt_number": 65

    },

    {

     "cell_type": "code",

     "collapsed": false,

     "input": [

      "import math as mt\n",

      "scores= [ [ 0 for i in range(2) ] for j in range(35047) ]\n",

      "for i in range(35047):\n",

      "    #float((sortedc[i][10]**2 + sortedc[i][11]**2)/2.0)\n",

      "    scores[i][1]=1-mt.sqrt((entropy[i][1]**2 + entropy[i][2]**2)/2.0)\n",

      "    scores[i][0]=entropy[i][0]"

     ],

     "language": "python",

     "metadata": {},

     "outputs": [],

     "prompt_number": 66

    },

    {

     "cell_type": "code",

     "collapsed": false,

     "input": [

      "import csv\n",

      "csvfile = \"L:/Data Mining/EntropyRatingDeviation_Arjun_Nov28.csv\"    \n",

      "with open(csvfile, \"w\") as output:\n",

      "    writer = csv.writer(output, lineterminator='\\n')\n",

      "    writer.writerows(scores)"

     ],

     "language": "python",

     "metadata": {},

     "outputs": [],

     "prompt_number": 68

    },

    {

     "cell_type": "code",

     "collapsed": false,

     "input": [

      "  "

     ],

     "language": "python",

     "metadata": {},

     "outputs": []

    }

   ],

   "metadata": {}

  }

 ]

}
