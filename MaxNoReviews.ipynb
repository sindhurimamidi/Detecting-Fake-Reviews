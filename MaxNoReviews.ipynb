{

 "metadata": {

  "name": "",

  "signature": "sha256:5f00ef21f891e9107343cf6bbbd4e9559727e2566d5299b4a85b928c71c5352a"

 },

 "nbformat": 3,

 "nbformat_minor": 0,

 "worksheets": [

  {

   "cells": [

    {

     "cell_type": "code",

     "collapsed": false,

     "input": [

      "import pandas as pd\n",

      "df=pd.read_csv('L:/Data Mining/Final_Arjun_Data.csv',header=0,usecols=[0,9])\n",

      "sorted_df=df.sort(['uid'])"

     ],

     "language": "python",

     "metadata": {},

     "outputs": [],

     "prompt_number": 55

    },

    {

     "cell_type": "code",

     "collapsed": false,

     "input": [

      "sorted_df['date']=pd.to_datetime(sorted_df['date'])"

     ],

     "language": "python",

     "metadata": {},

     "outputs": [],

     "prompt_number": 56

    },

    {

     "cell_type": "code",

     "collapsed": false,

     "input": [

      "sorted_df.dtypes\n"

     ],

     "language": "python",

     "metadata": {},

     "outputs": [],

     "prompt_number": 57

    },

    {

     "cell_type": "code",

     "collapsed": false,

     "input": [

      "#a= [ [ 0 for i in range(3) ] for j in range(252898) ]\n",

      "a= [ [ 0 for i in range(3) ] for j in range(42153) ]\n",

      "def construct_features(temp_df,k):\n",

      "        review_count = len(temp_df)\n",

      "        a[k][0] = temp_df.irow(0)['uid']\n",

      "        a[k][2] = review_count\n",

      "        if review_count==1:\n",

      "             a[k][1]=1\n",

      "             return\n",

      "        temp_df=temp_df.sort(['date'])\n",

      "        prevDate = temp_df.irow(0)['date']\n",

      "        maxi = 0\n",

      "        count = 0\n",

      "        for i in range(review_count):\n",

      "            curDate = temp_df.irow(i)['date']\n",

      "            if prevDate == curDate:\n",

      "                count = count + 1\n",

      "                if i == review_count - 1:\n",

      "                    if count > maxi:\n",

      "                        maxi = count\n",

      "            else:\n",

      "                if count > maxi:\n",

      "                    maxi = count\n",

      "                prevDate = curDate\n",

      "                count = 1\n",

      "        a[k][1]  = maxi  \n",

      "        return\n",

      "    \n",

      "temp_df=pd.DataFrame()    \n",

      "prev_userid=sorted_df.irow(0)['uid']\n",

      "k=0\n",

      "for i in range(len(sorted_df)):\n",

      "        cur_userid=sorted_df.irow(i)['uid']\n",

      "        if cur_userid==prev_userid:\n",

      "                temp_df=temp_df.append(sorted_df.irow(i))\n",

      "        if prev_userid!=cur_userid:\n",

      "                construct_features(temp_df,k)\n",

      "                k=k+1\n",

      "                del temp_df\n",

      "                prev_userid=cur_userid\n",

      "                temp_df=pd.DataFrame()  \n",

      "                temp_df=temp_df.append(sorted_df.irow(i))\n",

      "\n",

      "   "

     ],

     "language": "python",

     "metadata": {},

     "outputs": [],

     "prompt_number": 58

    },

    {

     "cell_type": "code",

     "collapsed": false,

     "input": [

      "import numpy as np\n",

      "c=np.array(a)\n",

      "#entropy=np.array(entropy)\n",

      "%matplotlib inline\n",

      "import matplotlib.pyplot as plt\n",

      "LE = c[:,2]\n",

      "HE = c[:,1]\n",

      "plt.scatter(LE, HE)\n",

      "plt.xlabel('No of reviews')\n",

      "plt.ylabel('Max Reviews written in a day')\n",

      "#plt.xlim(0,50)\n",

      "#plt.ylim(0,0.5)\n",

      "plt.show()"

     ],

     "language": "python",

     "metadata": {},

     "outputs": [

      {

       "metadata": {},

       "output_type": "display_data",

       "png": "[encoded data removed]",

       "text": [

        "<matplotlib.figure.Figure at 0x36d5d898>"

       ]

      }

     ],

     "prompt_number": 11

    },

    {

     "cell_type": "code",

     "collapsed": false,

     "input": [

      "import numpy as np\n",

      "d=np.array(a)\n",

      "#entropy=np.array(entropy)\n",

      "%matplotlib inline\n",

      "import matplotlib.pyplot as plt\n",

      "LE = d[:,2]\n",

      "HE = d[:,1]\n",

      "plt.scatter(LE, HE)\n",

      "plt.xlabel('No of reviews')\n",

      "plt.ylabel('Max Reviews written in a day')\n",

      "#plt.xlim(0,50)\n",

      "#plt.ylim(0,0.5)\n",

      "plt.show()"

     ],

     "language": "python",

     "metadata": {},

     "outputs": [

      {

       "metadata": {},

       "output_type": "display_data",

       "png": "[encoded data removed]",

       "text": [

        "<matplotlib.figure.Figure at 0x16001128>"

       ]

      }

     ],

     "prompt_number": 19

    },

    {

     "cell_type": "code",

     "collapsed": false,

     "input": [

      "for i in range(35048):\n",

      "    a[i][1] = float(a[i][1]/10.0)"

     ],

     "language": "python",

     "metadata": {},

     "outputs": [],

     "prompt_number": 5

    },

    {

     "cell_type": "code",

     "collapsed": false,

     "input": [

      "import csv\n",

      "csvfile = \"L:/Data Mining/graphs3.csv\"    \n",

      "with open(csvfile, \"w\") as output:\n",

      "    writer = csv.writer(output, lineterminator='\\n')\n",

      "    writer.writerows(a)"

     ],

     "language": "python",

     "metadata": {},

     "outputs": [],

     "prompt_number": 59

    },

    {

     "cell_type": "code",

     "collapsed": false,

     "input": [

      " import pandas as pd\n",

      "df=pd.read_csv('L:/Data Mining/Graphs.csv',header=0)"

     ],

     "language": "python",

     "metadata": {},

     "outputs": [],

     "prompt_number": 29

    },

    {

     "cell_type": "code",

     "collapsed": false,

     "input": [

      "len(df)"

     ],

     "language": "python",

     "metadata": {},

     "outputs": [],

     "prompt_number": 30

    },

    {

     "cell_type": "code",

     "collapsed": false,

     "input": [

      "e= [ [ 0 for i in range(2) ] for j in range(309) ]\n",

      "for i in range(309):\n",

      "    e[i][0]=df.irow(i)['Row Labels']\n",

      "    e[i][1]=df.irow(i)['Count of re']"

     ],

     "language": "python",

     "metadata": {},

     "outputs": [],

     "prompt_number": 33

    },

    {

     "cell_type": "code",

     "collapsed": false,

     "input": [

      " import pandas as pd\n",

      "df=pd.read_csv('L:/Data Mining/Graphs3.csv',header=0)"

     ],

     "language": "python",

     "metadata": {},

     "outputs": [],

     "prompt_number": 70

    },

    {

     "cell_type": "code",

     "collapsed": false,

     "input": [

      "len(df)"

     ],

     "language": "python",

     "metadata": {},

     "outputs": [],

     "prompt_number": 71

    },

    {

     "cell_type": "code",

     "collapsed": false,

     "input": [

      "df.dtypes"

     ],

     "language": "python",

     "metadata": {},

     "outputs": [],

     "prompt_number": 72

    },

    {

     "cell_type": "code",

     "collapsed": false,

     "input": [

      "g= [ [ 0 for i in range(2) ] for j in range(31) ]\n",

      "for i in range(31):\n",

      "    g[i][0]=df.irow(i)['no']\n",

      "    g[i][1]=df.irow(i)['fre']"

     ],

     "language": "python",

     "metadata": {},

     "outputs": [],

     "prompt_number": 73

    },

    {

     "cell_type": "code",

     "collapsed": false,

     "input": [

      "import numpy as np\n",

      "g=np.array(g)\n",

      "f=np.array(f)\n",

      "#entropy=np.array(entropy)\n",

      "%matplotlib inline\n",

      "import matplotlib.pyplot as plt\n",

      "LE = np.log10(g[:,0])\n",

      "HE = np.log10(g[:,1])\n",

      "LE1 = np.log10(f[:,0])\n",

      "HE1 = np.log10(f[:,1])\n",

      "lo=plt.scatter(LE, HE,color='red',label=\"users\")\n",

      "ll=plt.scatter(LE1, HE1,color='blue',label=\"products\")\n",

      "plt.legend((lo, ll),\n",

      "           ('Users', 'Products'),\n",

      "           scatterpoints=1,\n",

      "           loc='upper right',\n",

      "           ncol=3,\n",

      "           fontsize=8)\n",

      "plt.xlabel('No of reviews')\n",

      "plt.ylabel('Frequency')\n",

      "#plt.xlim(0,50)\n",

      "#plt.ylim(0,0.5)\n",

      "plt.show()"

     ],

     "language": "python",

     "metadata": {},

     "outputs": [

      {

       "metadata": {},

       "output_type": "display_data",

       "png": "[encoded data removed]",

       "text": [

        "<matplotlib.figure.Figure at 0x1600f278>"

       ]

      }

     ],

     "prompt_number": 78

    },

    {

     "cell_type": "code",

     "collapsed": false,

     "input": [

      "\n",

      "from matplotlib import pyplot as plt\n",

      "plt.scatter(X,Y1,color='red')\n",

      "plt.scatter(X,Y2,color='blue')\n",

      "plt.show()"

     ],

     "language": "python",

     "metadata": {},

     "outputs": []

    }

   ],

   "metadata": {}

  }

 ]

}
